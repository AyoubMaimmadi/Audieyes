{
 "cells": [
  {
   "cell_type": "markdown",
   "id": "0d428382-94c4-40b7-a121-6d1087017d93",
   "metadata": {},
   "source": [
    "# Greate Expectation Data Validation"
   ]
  },
  {
   "cell_type": "code",
   "execution_count": 1,
   "id": "e875ba3d-7685-49f1-994c-d2a6d11c929a",
   "metadata": {},
   "outputs": [],
   "source": [
    "import pandas as pd\n",
    "import great_expectations as ge"
   ]
  },
  {
   "cell_type": "markdown",
   "id": "8a50e9f6-d0e6-47e1-a2bb-4bb9a8921f85",
   "metadata": {},
   "source": [
    "## 1. Importing data"
   ]
  },
  {
   "cell_type": "code",
   "execution_count": 8,
   "id": "d34fcca6-7d1a-4207-b2e5-7ed04c8ff6ab",
   "metadata": {},
   "outputs": [
    {
     "name": "stdout",
     "output_type": "stream",
     "text": [
      "                              image  \\\n",
      "0   flickr30k-images/1007129816.jpg   \n",
      "1   flickr30k-images/1009434119.jpg   \n",
      "2    flickr30k-images/101362133.jpg   \n",
      "3    flickr30k-images/102617084.jpg   \n",
      "4     flickr30k-images/10287332.jpg   \n",
      "..                              ...   \n",
      "95    flickr30k-images/18638572.jpg   \n",
      "96  flickr30k-images/1874530310.jpg   \n",
      "97  flickr30k-images/1881494074.jpg   \n",
      "98  flickr30k-images/1916798494.jpg   \n",
      "99  flickr30k-images/1921102799.jpg   \n",
      "\n",
      "                                              caption  \n",
      "0   [The man with pierced ears is wearing glasses ...  \n",
      "1   [A black and white dog is running in a grassy ...  \n",
      "2   [A young female student performing a downward ...  \n",
      "3   [Five snowmobile riders all wearing helmets an...  \n",
      "4   [Two men sitting on the roof of a house while ...  \n",
      "..                                                ...  \n",
      "95  [A young boy wearing a white tunic, white pant...  \n",
      "96  [Three construction workers are digging a whol...  \n",
      "97  [A woman takes a picture of a baby wearing a p...  \n",
      "98  [A number of people are sitting in blue chairs...  \n",
      "99  [A young boy, playing soccer, is wearing a gre...  \n",
      "\n",
      "[100 rows x 2 columns]\n"
     ]
    }
   ],
   "source": [
    "data = pd.read_json('https://storage.googleapis.com/sfr-vision-language-research/datasets/flickr30k_test.json').head(100)\n",
    "print(data)"
   ]
  },
  {
   "cell_type": "markdown",
   "id": "5d9a2eb8-f9e5-4c5d-9ee7-eb5b9f1215a9",
   "metadata": {},
   "source": [
    "## 2. Convert it to a Pandas DataFrame"
   ]
  },
  {
   "cell_type": "code",
   "execution_count": 16,
   "id": "4b19fd31-bed6-4fe2-a7e8-179acd914234",
   "metadata": {},
   "outputs": [
    {
     "data": {
      "text/html": [
       "<div>\n",
       "<style scoped>\n",
       "    .dataframe tbody tr th:only-of-type {\n",
       "        vertical-align: middle;\n",
       "    }\n",
       "\n",
       "    .dataframe tbody tr th {\n",
       "        vertical-align: top;\n",
       "    }\n",
       "\n",
       "    .dataframe thead th {\n",
       "        text-align: right;\n",
       "    }\n",
       "</style>\n",
       "<table border=\"1\" class=\"dataframe\">\n",
       "  <thead>\n",
       "    <tr style=\"text-align: right;\">\n",
       "      <th></th>\n",
       "      <th>image</th>\n",
       "      <th>caption</th>\n",
       "    </tr>\n",
       "  </thead>\n",
       "  <tbody>\n",
       "    <tr>\n",
       "      <th>0</th>\n",
       "      <td>flickr30k-images/1007129816.jpg</td>\n",
       "      <td>[The man with pierced ears is wearing glasses ...</td>\n",
       "    </tr>\n",
       "    <tr>\n",
       "      <th>1</th>\n",
       "      <td>flickr30k-images/1009434119.jpg</td>\n",
       "      <td>[A black and white dog is running in a grassy ...</td>\n",
       "    </tr>\n",
       "    <tr>\n",
       "      <th>2</th>\n",
       "      <td>flickr30k-images/101362133.jpg</td>\n",
       "      <td>[A young female student performing a downward ...</td>\n",
       "    </tr>\n",
       "    <tr>\n",
       "      <th>3</th>\n",
       "      <td>flickr30k-images/102617084.jpg</td>\n",
       "      <td>[Five snowmobile riders all wearing helmets an...</td>\n",
       "    </tr>\n",
       "    <tr>\n",
       "      <th>4</th>\n",
       "      <td>flickr30k-images/10287332.jpg</td>\n",
       "      <td>[Two men sitting on the roof of a house while ...</td>\n",
       "    </tr>\n",
       "  </tbody>\n",
       "</table>\n",
       "</div>"
      ],
      "text/plain": [
       "                             image  \\\n",
       "0  flickr30k-images/1007129816.jpg   \n",
       "1  flickr30k-images/1009434119.jpg   \n",
       "2   flickr30k-images/101362133.jpg   \n",
       "3   flickr30k-images/102617084.jpg   \n",
       "4    flickr30k-images/10287332.jpg   \n",
       "\n",
       "                                             caption  \n",
       "0  [The man with pierced ears is wearing glasses ...  \n",
       "1  [A black and white dog is running in a grassy ...  \n",
       "2  [A young female student performing a downward ...  \n",
       "3  [Five snowmobile riders all wearing helmets an...  \n",
       "4  [Two men sitting on the roof of a house while ...  "
      ]
     },
     "execution_count": 16,
     "metadata": {},
     "output_type": "execute_result"
    }
   ],
   "source": [
    "df = pd.DataFrame(data)\n",
    "df.head()"
   ]
  },
  {
   "cell_type": "markdown",
   "id": "13ae19ca-5880-4cef-8e69-fca4f0f14efb",
   "metadata": {},
   "source": [
    "## 3. Convert the DataFrame to a Great Expectations dataset"
   ]
  },
  {
   "cell_type": "code",
   "execution_count": 19,
   "id": "180e8352-f62d-49fd-879b-6486c4f39918",
   "metadata": {},
   "outputs": [
    {
     "name": "stdout",
     "output_type": "stream",
     "text": [
      "<class 'pandas.core.frame.DataFrame'>\n",
      "RangeIndex: 100 entries, 0 to 99\n",
      "Data columns (total 2 columns):\n",
      " #   Column   Non-Null Count  Dtype \n",
      "---  ------   --------------  ----- \n",
      " 0   image    100 non-null    object\n",
      " 1   caption  100 non-null    object\n",
      "dtypes: object(2)\n",
      "memory usage: 1.7+ KB\n"
     ]
    }
   ],
   "source": [
    "df.info()\n",
    "dataset = ge.from_pandas(df)"
   ]
  },
  {
   "cell_type": "code",
   "execution_count": 20,
   "id": "d786d507-582a-4a97-a031-2fa11c0e1527",
   "metadata": {},
   "outputs": [
    {
     "data": {
      "text/plain": [
       "great_expectations.dataset.pandas_dataset.PandasDataset"
      ]
     },
     "execution_count": 20,
     "metadata": {},
     "output_type": "execute_result"
    }
   ],
   "source": [
    "type(dataset)"
   ]
  },
  {
   "cell_type": "markdown",
   "id": "bf91e4a4-ef27-48dd-8a40-9a992fc26eef",
   "metadata": {},
   "source": [
    "## 4. Validate the Structure of Each Record\n",
    "### Ensure that each record in your dataset contains an \"image\" field and a \"caption\" field, and that the \"caption\" field is a list."
   ]
  },
  {
   "cell_type": "code",
   "execution_count": 25,
   "id": "586d9e24-2914-4fc3-9b56-49f3699d2408",
   "metadata": {},
   "outputs": [
    {
     "data": {
      "text/plain": [
       "{\n",
       "  \"success\": true,\n",
       "  \"result\": {\n",
       "    \"element_count\": 100,\n",
       "    \"missing_count\": 0,\n",
       "    \"missing_percent\": 0.0,\n",
       "    \"unexpected_count\": 0,\n",
       "    \"unexpected_percent\": 0.0,\n",
       "    \"unexpected_percent_total\": 0.0,\n",
       "    \"unexpected_percent_nonmissing\": 0.0,\n",
       "    \"partial_unexpected_list\": []\n",
       "  },\n",
       "  \"meta\": {},\n",
       "  \"exception_info\": {\n",
       "    \"raised_exception\": false,\n",
       "    \"exception_traceback\": null,\n",
       "    \"exception_message\": null\n",
       "  }\n",
       "}"
      ]
     },
     "execution_count": 25,
     "metadata": {},
     "output_type": "execute_result"
    }
   ],
   "source": [
    "dataset.expect_column_to_exist(\"image\")\n",
    "dataset.expect_column_to_exist(\"caption\")\n",
    "dataset.expect_column_values_to_be_of_type(\"caption\", \"list\")"
   ]
  },
  {
   "cell_type": "markdown",
   "id": "64f9da4f-2f55-49b8-a951-6e0eb5621460",
   "metadata": {},
   "source": [
    "## 5. Check Image Filenames\n",
    "### Verify that the image filenames follow the expected pattern, e.g., located in the \"flickr30k-images\" folder and have a \".jpg\" extension."
   ]
  },
  {
   "cell_type": "code",
   "execution_count": 27,
   "id": "06231531-43e1-48aa-9ba7-88ac0bccd295",
   "metadata": {},
   "outputs": [
    {
     "data": {
      "text/plain": [
       "{\n",
       "  \"success\": true,\n",
       "  \"result\": {\n",
       "    \"element_count\": 100,\n",
       "    \"missing_count\": 0,\n",
       "    \"missing_percent\": 0.0,\n",
       "    \"unexpected_count\": 0,\n",
       "    \"unexpected_percent\": 0.0,\n",
       "    \"unexpected_percent_total\": 0.0,\n",
       "    \"unexpected_percent_nonmissing\": 0.0,\n",
       "    \"partial_unexpected_list\": []\n",
       "  },\n",
       "  \"meta\": {},\n",
       "  \"exception_info\": {\n",
       "    \"raised_exception\": false,\n",
       "    \"exception_traceback\": null,\n",
       "    \"exception_message\": null\n",
       "  }\n",
       "}"
      ]
     },
     "execution_count": 27,
     "metadata": {},
     "output_type": "execute_result"
    }
   ],
   "source": [
    "dataset.expect_column_values_to_match_regex('image', r'^flickr30k-images\\/.+\\.jpg$')"
   ]
  },
  {
   "cell_type": "markdown",
   "id": "883d4627-d632-4ce8-a66d-86d9c55bb400",
   "metadata": {},
   "source": [
    "## 6. Check for unique images"
   ]
  },
  {
   "cell_type": "code",
   "execution_count": 38,
   "id": "0f695377-dac7-457d-94d7-53d2b806b2bb",
   "metadata": {},
   "outputs": [
    {
     "data": {
      "text/plain": [
       "{\n",
       "  \"success\": true,\n",
       "  \"result\": {\n",
       "    \"element_count\": 100,\n",
       "    \"missing_count\": 0,\n",
       "    \"missing_percent\": 0.0,\n",
       "    \"unexpected_count\": 0,\n",
       "    \"unexpected_percent\": 0.0,\n",
       "    \"unexpected_percent_total\": 0.0,\n",
       "    \"unexpected_percent_nonmissing\": 0.0,\n",
       "    \"partial_unexpected_list\": []\n",
       "  },\n",
       "  \"meta\": {},\n",
       "  \"exception_info\": {\n",
       "    \"raised_exception\": false,\n",
       "    \"exception_traceback\": null,\n",
       "    \"exception_message\": null\n",
       "  }\n",
       "}"
      ]
     },
     "execution_count": 38,
     "metadata": {},
     "output_type": "execute_result"
    }
   ],
   "source": [
    "dataset.expect_column_values_to_be_unique(\"image\")\n",
    "dataset.expect_column_values_to_be_unique(\"caption\")"
   ]
  },
  {
   "cell_type": "markdown",
   "id": "51488809-9745-41ae-a073-a816b02b923d",
   "metadata": {},
   "source": [
    "## 7. Validate Captions for Non-Emptiness\n",
    "### Check that each caption list has at least one caption and doesn't exceed a maximum of 5 captions"
   ]
  },
  {
   "cell_type": "code",
   "execution_count": 40,
   "id": "2a20c8e0-6edc-4a3a-97c7-72b0327741b1",
   "metadata": {},
   "outputs": [
    {
     "name": "stdout",
     "output_type": "stream",
     "text": [
      "{\n",
      "  \"success\": true,\n",
      "  \"results\": [\n",
      "    {\n",
      "      \"success\": true,\n",
      "      \"expectation_config\": {\n",
      "        \"expectation_type\": \"expect_column_to_exist\",\n",
      "        \"kwargs\": {\n",
      "          \"column\": \"image\",\n",
      "          \"result_format\": \"BASIC\"\n",
      "        },\n",
      "        \"meta\": {}\n",
      "      },\n",
      "      \"result\": {},\n",
      "      \"meta\": {},\n",
      "      \"exception_info\": {\n",
      "        \"raised_exception\": false,\n",
      "        \"exception_message\": null,\n",
      "        \"exception_traceback\": null\n",
      "      }\n",
      "    },\n",
      "    {\n",
      "      \"success\": true,\n",
      "      \"expectation_config\": {\n",
      "        \"expectation_type\": \"expect_column_values_to_match_regex\",\n",
      "        \"kwargs\": {\n",
      "          \"column\": \"image\",\n",
      "          \"regex\": \"^flickr30k-images\\\\/.+\\\\.jpg$\",\n",
      "          \"result_format\": \"BASIC\"\n",
      "        },\n",
      "        \"meta\": {}\n",
      "      },\n",
      "      \"result\": {\n",
      "        \"element_count\": 100,\n",
      "        \"missing_count\": 0,\n",
      "        \"missing_percent\": 0.0,\n",
      "        \"unexpected_count\": 0,\n",
      "        \"unexpected_percent\": 0.0,\n",
      "        \"unexpected_percent_total\": 0.0,\n",
      "        \"unexpected_percent_nonmissing\": 0.0,\n",
      "        \"partial_unexpected_list\": []\n",
      "      },\n",
      "      \"meta\": {},\n",
      "      \"exception_info\": {\n",
      "        \"raised_exception\": false,\n",
      "        \"exception_message\": null,\n",
      "        \"exception_traceback\": null\n",
      "      }\n",
      "    },\n",
      "    {\n",
      "      \"success\": true,\n",
      "      \"expectation_config\": {\n",
      "        \"expectation_type\": \"expect_column_values_to_be_unique\",\n",
      "        \"kwargs\": {\n",
      "          \"column\": \"image\",\n",
      "          \"result_format\": \"BASIC\"\n",
      "        },\n",
      "        \"meta\": {}\n",
      "      },\n",
      "      \"result\": {\n",
      "        \"element_count\": 100,\n",
      "        \"missing_count\": 0,\n",
      "        \"missing_percent\": 0.0,\n",
      "        \"unexpected_count\": 0,\n",
      "        \"unexpected_percent\": 0.0,\n",
      "        \"unexpected_percent_total\": 0.0,\n",
      "        \"unexpected_percent_nonmissing\": 0.0,\n",
      "        \"partial_unexpected_list\": []\n",
      "      },\n",
      "      \"meta\": {},\n",
      "      \"exception_info\": {\n",
      "        \"raised_exception\": false,\n",
      "        \"exception_message\": null,\n",
      "        \"exception_traceback\": null\n",
      "      }\n",
      "    },\n",
      "    {\n",
      "      \"success\": true,\n",
      "      \"expectation_config\": {\n",
      "        \"expectation_type\": \"expect_column_to_exist\",\n",
      "        \"kwargs\": {\n",
      "          \"column\": \"caption\",\n",
      "          \"result_format\": \"BASIC\"\n",
      "        },\n",
      "        \"meta\": {}\n",
      "      },\n",
      "      \"result\": {},\n",
      "      \"meta\": {},\n",
      "      \"exception_info\": {\n",
      "        \"raised_exception\": false,\n",
      "        \"exception_message\": null,\n",
      "        \"exception_traceback\": null\n",
      "      }\n",
      "    },\n",
      "    {\n",
      "      \"success\": true,\n",
      "      \"expectation_config\": {\n",
      "        \"expectation_type\": \"expect_column_values_to_be_of_type\",\n",
      "        \"kwargs\": {\n",
      "          \"column\": \"caption\",\n",
      "          \"type_\": \"list\",\n",
      "          \"result_format\": \"BASIC\"\n",
      "        },\n",
      "        \"meta\": {}\n",
      "      },\n",
      "      \"result\": {\n",
      "        \"element_count\": 100,\n",
      "        \"missing_count\": 0,\n",
      "        \"missing_percent\": 0.0,\n",
      "        \"unexpected_count\": 0,\n",
      "        \"unexpected_percent\": 0.0,\n",
      "        \"unexpected_percent_total\": 0.0,\n",
      "        \"unexpected_percent_nonmissing\": 0.0,\n",
      "        \"partial_unexpected_list\": []\n",
      "      },\n",
      "      \"meta\": {},\n",
      "      \"exception_info\": {\n",
      "        \"raised_exception\": false,\n",
      "        \"exception_message\": null,\n",
      "        \"exception_traceback\": null\n",
      "      }\n",
      "    },\n",
      "    {\n",
      "      \"success\": true,\n",
      "      \"expectation_config\": {\n",
      "        \"expectation_type\": \"expect_column_values_to_not_be_null\",\n",
      "        \"kwargs\": {\n",
      "          \"column\": \"caption\",\n",
      "          \"result_format\": \"BASIC\"\n",
      "        },\n",
      "        \"meta\": {}\n",
      "      },\n",
      "      \"result\": {\n",
      "        \"element_count\": 100,\n",
      "        \"unexpected_count\": 0,\n",
      "        \"unexpected_percent\": 0.0,\n",
      "        \"unexpected_percent_total\": 0.0,\n",
      "        \"partial_unexpected_list\": []\n",
      "      },\n",
      "      \"meta\": {},\n",
      "      \"exception_info\": {\n",
      "        \"raised_exception\": false,\n",
      "        \"exception_message\": null,\n",
      "        \"exception_traceback\": null\n",
      "      }\n",
      "    },\n",
      "    {\n",
      "      \"success\": true,\n",
      "      \"expectation_config\": {\n",
      "        \"expectation_type\": \"expect_column_values_to_be_unique\",\n",
      "        \"kwargs\": {\n",
      "          \"column\": \"caption\",\n",
      "          \"result_format\": \"BASIC\"\n",
      "        },\n",
      "        \"meta\": {}\n",
      "      },\n",
      "      \"result\": {\n",
      "        \"element_count\": 100,\n",
      "        \"missing_count\": 0,\n",
      "        \"missing_percent\": 0.0,\n",
      "        \"unexpected_count\": 0,\n",
      "        \"unexpected_percent\": 0.0,\n",
      "        \"unexpected_percent_total\": 0.0,\n",
      "        \"unexpected_percent_nonmissing\": 0.0,\n",
      "        \"partial_unexpected_list\": []\n",
      "      },\n",
      "      \"meta\": {},\n",
      "      \"exception_info\": {\n",
      "        \"raised_exception\": false,\n",
      "        \"exception_message\": null,\n",
      "        \"exception_traceback\": null\n",
      "      }\n",
      "    }\n",
      "  ],\n",
      "  \"evaluation_parameters\": {},\n",
      "  \"statistics\": {\n",
      "    \"evaluated_expectations\": 7,\n",
      "    \"successful_expectations\": 7,\n",
      "    \"unsuccessful_expectations\": 0,\n",
      "    \"success_percent\": 100.0\n",
      "  },\n",
      "  \"meta\": {\n",
      "    \"great_expectations_version\": \"0.18.10\",\n",
      "    \"expectation_suite_name\": \"default\",\n",
      "    \"run_id\": {\n",
      "      \"run_name\": null,\n",
      "      \"run_time\": \"2024-03-16T13:03:26.227133+00:00\"\n",
      "    },\n",
      "    \"batch_kwargs\": {\n",
      "      \"ge_batch_id\": \"87794b6e-e394-11ee-ad3e-795d646074e0\"\n",
      "    },\n",
      "    \"batch_markers\": {},\n",
      "    \"batch_parameters\": {},\n",
      "    \"validation_time\": \"20240316T130326.227019Z\",\n",
      "    \"expectation_suite_meta\": {\n",
      "      \"great_expectations_version\": \"0.18.10\"\n",
      "    }\n",
      "  }\n",
      "}\n"
     ]
    }
   ],
   "source": [
    "def expect_list_of_strings_to_not_be_empty(column_values):\n",
    "    all_non_empty = all(all(caption.strip() for caption in captions) for captions in column_values)\n",
    "    return {\n",
    "        \"success\": all_non_empty\n",
    "    }\n",
    "\n",
    "# Run validation for the defined expectations\n",
    "results = dataset.validate()\n",
    "print(results)"
   ]
  }
 ],
 "metadata": {
  "kernelspec": {
   "display_name": "Python 3 (ipykernel)",
   "language": "python",
   "name": "python3"
  },
  "language_info": {
   "codemirror_mode": {
    "name": "ipython",
    "version": 3
   },
   "file_extension": ".py",
   "mimetype": "text/x-python",
   "name": "python",
   "nbconvert_exporter": "python",
   "pygments_lexer": "ipython3",
   "version": "3.11.8"
  }
 },
 "nbformat": 4,
 "nbformat_minor": 5
}
